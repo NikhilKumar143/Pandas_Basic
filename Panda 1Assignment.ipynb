{
 "cells": [
  {
   "cell_type": "code",
   "execution_count": 1,
   "id": "61d31689-9201-43fe-adaf-daedbd668640",
   "metadata": {},
   "outputs": [],
   "source": [
    "import pandas as pd"
   ]
  },
  {
   "cell_type": "code",
   "execution_count": 21,
   "id": "6a7f1779-72d2-487e-9fb1-7802825ce207",
   "metadata": {},
   "outputs": [
    {
     "name": "stdout",
     "output_type": "stream",
     "text": [
      "Requirement already satisfied: pandas in /opt/conda/lib/python3.10/site-packages (1.5.2)\n",
      "Requirement already satisfied: python-dateutil>=2.8.1 in /opt/conda/lib/python3.10/site-packages (from pandas) (2.8.2)\n",
      "Requirement already satisfied: pytz>=2020.1 in /opt/conda/lib/python3.10/site-packages (from pandas) (2022.6)\n",
      "Requirement already satisfied: numpy>=1.21.0 in /opt/conda/lib/python3.10/site-packages (from pandas) (1.23.5)\n",
      "Requirement already satisfied: six>=1.5 in /opt/conda/lib/python3.10/site-packages (from python-dateutil>=2.8.1->pandas) (1.16.0)\n",
      "Note: you may need to restart the kernel to use updated packages.\n"
     ]
    }
   ],
   "source": [
    "pip install pandas"
   ]
  },
  {
   "cell_type": "markdown",
   "id": "31e59e9d-ced1-4a55-86bf-4092b7cb7ece",
   "metadata": {},
   "source": [
    "Q1 .Create a Pandas that contains the followings data : 4,8,15,16,23 and 42 , then print the series ?"
   ]
  },
  {
   "cell_type": "code",
   "execution_count": 12,
   "id": "4f582691-eba1-43b4-af98-2bc209763bdb",
   "metadata": {},
   "outputs": [
    {
     "name": "stdout",
     "output_type": "stream",
     "text": [
      "0     4\n",
      "1     8\n",
      "2    15\n",
      "3    16\n",
      "4    23\n",
      "5    42\n",
      "dtype: int64\n"
     ]
    }
   ],
   "source": [
    "data = [4, 8, 15, 16, 23, 42]\n",
    "series = pd.Series(data)\n",
    "print(series)"
   ]
  },
  {
   "cell_type": "markdown",
   "id": "6c26a7bc-8f02-428b-8973-c07e7065d227",
   "metadata": {},
   "source": [
    "Q2 . Create a variable of list type containing 10 elements in it, and apply pandas.Series function on the\n",
    "variable print it."
   ]
  },
  {
   "cell_type": "code",
   "execution_count": 7,
   "id": "06c34af9-d4db-48ee-8d4b-de89526ff498",
   "metadata": {},
   "outputs": [],
   "source": [
    "my_list = [1,2,3,4,5,\"Nikhil\" ,231.565,\"Kumar\",\"True\",\"False\"]"
   ]
  },
  {
   "cell_type": "code",
   "execution_count": 8,
   "id": "46e86fda-a63c-4478-b7a2-34ecadc0e6b5",
   "metadata": {},
   "outputs": [
    {
     "name": "stdout",
     "output_type": "stream",
     "text": [
      "0          1\n",
      "1          2\n",
      "2          3\n",
      "3          4\n",
      "4          5\n",
      "5     Nikhil\n",
      "6    231.565\n",
      "7      Kumar\n",
      "8       True\n",
      "9      False\n",
      "dtype: object\n"
     ]
    }
   ],
   "source": [
    "\n",
    "series = pd.Series(my_list)\n",
    "print(series)"
   ]
  },
  {
   "cell_type": "markdown",
   "id": "2a3ca783-52c0-4090-ae76-2a1f5d0d6991",
   "metadata": {},
   "source": [
    "Q3 . Create a Pandas DataFrame that contains the following data: then print the data frame ?"
   ]
  },
  {
   "cell_type": "code",
   "execution_count": 13,
   "id": "b96046f1-e548-4af9-a4df-8369ca003d6f",
   "metadata": {},
   "outputs": [
    {
     "name": "stdout",
     "output_type": "stream",
     "text": [
      "     Nmae  Age  Gender\n",
      "0   Alice   25  Female\n",
      "1     Bob   30    Male\n",
      "2  Claire   27  Female\n"
     ]
    }
   ],
   "source": [
    "# Create a data using dictionary\n",
    "data = {\"Nmae\":[\"Alice\", \"Bob\", \"Claire\"],\n",
    "        \"Age\":[25,30,27],\n",
    "        \"Gender\":[\"Female\",\"Male\", \"Female\"]\n",
    "\n",
    "}\n",
    "\n",
    "#creating a dataframe from dictionary\n",
    "df = pd.DataFrame(data)\n",
    "\n",
    "#print dataframe\n",
    "print(df)\n"
   ]
  },
  {
   "cell_type": "markdown",
   "id": "05302d8f-096c-430b-8e44-222e67caf172",
   "metadata": {},
   "source": [
    "Q4 .What is ‘DataFrame’ in pandas and how is it different from pandas.series? Explain with an example."
   ]
  },
  {
   "cell_type": "code",
   "execution_count": null,
   "id": "175434ca-0341-43be-b26b-45b2804d7e06",
   "metadata": {},
   "outputs": [],
   "source": [
    "# Data frame\n",
    "In Pandas, a DataFrame is a two-dimensional table-like data structure, where each column can have a different data type.\n",
    "It can be thought of as a collection of Pandas Series, where each column represents a Series.\n",
    "# Series\n",
    "On the other hand, a Pandas Series is a one-dimensional labeled array capable of holding data of any type. \n",
    "It can be thought of as a single column of data in a DataFrame.\n"
   ]
  },
  {
   "cell_type": "code",
   "execution_count": 17,
   "id": "5379011d-c9c9-4f14-8680-44ee809bcede",
   "metadata": {},
   "outputs": [
    {
     "name": "stdout",
     "output_type": "stream",
     "text": [
      "     Nmae  Age  Gender\n",
      "0   Alice   25  Female\n",
      "1     Bob   30    Male\n",
      "2  Claire   27  Female\n",
      "0    25\n",
      "1    30\n",
      "2    27\n",
      "Name: Age, dtype: int64\n"
     ]
    }
   ],
   "source": [
    "# Data Frame Example \n",
    "data = {\"Nmae\":[\"Alice\", \"Bob\", \"Claire\"],\n",
    "        \"Age\":[25,30,27],\n",
    "        \"Gender\":[\"Female\",\"Male\", \"Female\"]\n",
    "\n",
    "}\n",
    "\n",
    "df = pd.DataFrame(data)\n",
    "print(df)\n",
    "\n",
    "\n",
    "# Exampl of series\n",
    "\n",
    "Age_Series =df[\"Age\"]\n",
    "print(Age_Series)\n"
   ]
  },
  {
   "cell_type": "markdown",
   "id": "c71154a6-6a93-4443-a917-6c5068b9b015",
   "metadata": {},
   "source": [
    "Q5.What are some common functions you can use to manipulate data in a Pandas DataFrame? Can\n",
    "you give an example of when you might use one of these functions?"
   ]
  },
  {
   "cell_type": "code",
   "execution_count": null,
   "id": "e8827a8b-3af2-42a7-ac4c-078f2188cafc",
   "metadata": {},
   "outputs": [],
   "source": [
    "1. head(): This function is used to display the first few rows of the DataFrame. It is useful for quickly inspecting the data.\n",
    " Ex : df = pd.read_csv('data.csv')\n",
    "      df.head()\n",
    "\n",
    "        \n",
    "2. tail(): This function is used to display the last few rows of the DataFrame. It is useful for quickly inspecting the data.\n",
    "\n",
    "Ex :  df = pd.read_csv('data.csv')\n",
    "      df.tail()\n",
    "\n",
    "    \n",
    "3. describe(): This function is used to generate descriptive statistics of the DataFrame. \n",
    "It provides information such as the count, mean, standard deviation, minimum, and maximum values.\n",
    "\n",
    "Ex : df = pd.read_csv('data.csv')\n",
    "     df.describe()\n",
    "    \n",
    "4. sort_values(): This function is used to sort the DataFrame by one or more columns. \n",
    "It can be used to sort the data in ascending or descending order.\n",
    "\n",
    "Ex : df = pd.read_csv('data.csv')\n",
    "     df_sorted = df.sort_values(by='age', ascending=False)\n",
    "    \n",
    "5. groupby(): This function is used to group the DataFrame by one or more columns.\n",
    "It can be used to perform operations on the groups separately.\n",
    "\n",
    "Ex : df = pd.read_csv('data.csv')\n",
    "     grouped = df.groupby('gender')\n",
    "     mean_age_by_gender = grouped['age'].mean()"
   ]
  },
  {
   "cell_type": "markdown",
   "id": "cf79f020-ff77-4890-a701-262cbba4e10b",
   "metadata": {},
   "source": [
    "Q6 . Which of the following is mutable in nature Series, DataFrame, Panel?"
   ]
  },
  {
   "cell_type": "code",
   "execution_count": null,
   "id": "516f2236-bad8-44f3-8305-da30eb2e7283",
   "metadata": {},
   "outputs": [],
   "source": [
    "In Pandas, both Series and DataFrame are mutable in nature. \n",
    "This means that you can modify the contents of a Series or DataFrame after it has been created.\n",
    "\n",
    "Ex : import pandas as pd\n",
    "\n",
    "# Create a Series\n",
    "s = pd.Series([1, 2, 3])\n",
    "\n",
    "# Modify an element of the Series\n",
    "s[1] = 4\n",
    "\n",
    "# Add a new element to the Series\n",
    "s[3] = 5\n",
    "\n",
    "\n",
    "Similarly, you can add new columns to a DataFrame or modify existing columns using indexing and assignment:\n",
    "    \n",
    "    \n",
    "    # Create a DataFrame\n",
    "df = pd.DataFrame({'A': [1, 2, 3], 'B': [4, 5, 6]})\n",
    "\n",
    "# Modify a column of the DataFrame\n",
    "df['B'] = [7, 8, 9]\n",
    "\n",
    "# Add a new column to the DataFrame\n",
    "df['C'] = [10, 11, 12]"
   ]
  },
  {
   "cell_type": "markdown",
   "id": "7a8967bf-4968-420a-9000-098cebcdd9cf",
   "metadata": {},
   "source": [
    "#Q7 . Create a DataFrame using multiple Series. Explain with an example."
   ]
  },
  {
   "cell_type": "code",
   "execution_count": 24,
   "id": "15a51b21-2fec-4721-9a5a-aedfa364d50c",
   "metadata": {},
   "outputs": [],
   "source": [
    "name = pd.Series ([\"Alice\",\"Bob\",\"Claire\"])\n",
    "age = pd.Series([25,30,27])\n",
    "gender = pd.Series([\"Female\",\"Male\",\"female\"])"
   ]
  },
  {
   "cell_type": "code",
   "execution_count": 25,
   "id": "ef6eefdb-7671-4f42-b425-74b6a73f8390",
   "metadata": {},
   "outputs": [],
   "source": [
    "df = pd.DataFrame({\"Name\":name , \"Age\":age , \"Gender\":gender})"
   ]
  },
  {
   "cell_type": "code",
   "execution_count": 26,
   "id": "f9cbb558-ac96-4fc4-8c9a-7a651a9f423d",
   "metadata": {},
   "outputs": [
    {
     "data": {
      "text/html": [
       "<div>\n",
       "<style scoped>\n",
       "    .dataframe tbody tr th:only-of-type {\n",
       "        vertical-align: middle;\n",
       "    }\n",
       "\n",
       "    .dataframe tbody tr th {\n",
       "        vertical-align: top;\n",
       "    }\n",
       "\n",
       "    .dataframe thead th {\n",
       "        text-align: right;\n",
       "    }\n",
       "</style>\n",
       "<table border=\"1\" class=\"dataframe\">\n",
       "  <thead>\n",
       "    <tr style=\"text-align: right;\">\n",
       "      <th></th>\n",
       "      <th>Name</th>\n",
       "      <th>Age</th>\n",
       "      <th>Gender</th>\n",
       "    </tr>\n",
       "  </thead>\n",
       "  <tbody>\n",
       "    <tr>\n",
       "      <th>0</th>\n",
       "      <td>Alice</td>\n",
       "      <td>25</td>\n",
       "      <td>Female</td>\n",
       "    </tr>\n",
       "    <tr>\n",
       "      <th>1</th>\n",
       "      <td>Bob</td>\n",
       "      <td>30</td>\n",
       "      <td>Male</td>\n",
       "    </tr>\n",
       "    <tr>\n",
       "      <th>2</th>\n",
       "      <td>Claire</td>\n",
       "      <td>27</td>\n",
       "      <td>female</td>\n",
       "    </tr>\n",
       "  </tbody>\n",
       "</table>\n",
       "</div>"
      ],
      "text/plain": [
       "     Name  Age  Gender\n",
       "0   Alice   25  Female\n",
       "1     Bob   30    Male\n",
       "2  Claire   27  female"
      ]
     },
     "execution_count": 26,
     "metadata": {},
     "output_type": "execute_result"
    }
   ],
   "source": [
    "df"
   ]
  },
  {
   "cell_type": "code",
   "execution_count": null,
   "id": "01717277-b323-4beb-a6ce-8ab362558541",
   "metadata": {},
   "outputs": [],
   "source": []
  }
 ],
 "metadata": {
  "kernelspec": {
   "display_name": "Python 3 (ipykernel)",
   "language": "python",
   "name": "python3"
  },
  "language_info": {
   "codemirror_mode": {
    "name": "ipython",
    "version": 3
   },
   "file_extension": ".py",
   "mimetype": "text/x-python",
   "name": "python",
   "nbconvert_exporter": "python",
   "pygments_lexer": "ipython3",
   "version": "3.10.8"
  }
 },
 "nbformat": 4,
 "nbformat_minor": 5
}
