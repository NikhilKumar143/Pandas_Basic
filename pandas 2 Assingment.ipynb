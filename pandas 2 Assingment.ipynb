{
 "cells": [
  {
   "cell_type": "code",
   "execution_count": 2,
   "id": "bf43db4f-b700-4100-a356-c5d4cacfac00",
   "metadata": {},
   "outputs": [],
   "source": [
    "import pandas as pd"
   ]
  },
  {
   "cell_type": "markdown",
   "id": "2a758584-890c-4d99-9f13-6e2992218cba",
   "metadata": {},
   "source": [
    "Q1 . Q1. List any five functions of the pandas library with execution."
   ]
  },
  {
   "cell_type": "code",
   "execution_count": null,
   "id": "4c542e77-063d-4dff-88ab-6cc58c3b9498",
   "metadata": {},
   "outputs": [],
   "source": [
    "1 . read_csv(): This function is used to read a CSV file and convert it into a pandas DataFrame.\n",
    "Ex: df.read_csv(\"example_csv\") \n",
    "    print(df.head())\n",
    "\n",
    "2 .dropna(): This function is used to remove rows or columns with missing values from a DataFrame.\n",
    "Ex: df = pd.read_csv('example.csv')\n",
    "    df.dropna(inplace=True)\n",
    "    print(df.head())\n",
    "    \n",
    "3 . groupby(): This function is used to group rows of a DataFrame based on one or more columns.\n",
    "Ex : df = pd.read_csv('example.csv')\n",
    "     grouped = df.groupby(['Category'])\n",
    "     print(grouped.mean())\n",
    "        \n",
    "4 . dtypes: This function is used to see all the datatype \n",
    "Ex :    df.dtype\n",
    "    \n",
    "5 . ilog : This is used to fetch required row and column using slicing and indexing\n",
    "Ex :  df.ilog[2:4,[1,2,3]]\n",
    "\n",
    "6 . log   : This is used to fetch required row and column using slicing and named indexing\n",
    "Ex :    df.log[2:4,['Passengerid','Survived', 'Pclass']]\n"
   ]
  },
  {
   "cell_type": "markdown",
   "id": "c7279584-5b34-4edf-b908-c7befafa2c64",
   "metadata": {},
   "source": [
    "Q2 .Given a Pandas DataFrame df with columns 'A', 'B', and 'C', write a Python function to re-index the\n",
    "DataFrame with a new index that starts from 1 and increments by 2 for each row."
   ]
  },
  {
   "cell_type": "code",
   "execution_count": 4,
   "id": "5b7678cd-ce92-418c-aa98-42145078a745",
   "metadata": {},
   "outputs": [],
   "source": [
    "def reindex_dataframe(df):\n",
    "    new_index = pd.RangeIndex(start=1, step=2, stop=2*len(df)+1)\n",
    "    new_df = df.set_index(new_index)\n",
    "    return new_df"
   ]
  },
  {
   "cell_type": "code",
   "execution_count": 5,
   "id": "df0dd158-fc98-4c5c-87a8-cf397fbc17cf",
   "metadata": {},
   "outputs": [
    {
     "name": "stdout",
     "output_type": "stream",
     "text": [
      "   A  B  C\n",
      "1  1  4  7\n",
      "3  2  5  8\n",
      "5  3  6  9\n"
     ]
    }
   ],
   "source": [
    "df = pd.DataFrame({'A': [1, 2, 3], 'B': [4, 5, 6], 'C': [7, 8, 9]})\n",
    "new_df = reindex_dataframe(df)\n",
    "print(new_df)"
   ]
  },
  {
   "cell_type": "markdown",
   "id": "0b9af730-2ccf-4189-93c2-7f6f5c22b3f0",
   "metadata": {},
   "source": [
    "Q3 . You have a Pandas DataFrame df with a column named 'Values'. Write a Python function that\n",
    "iterates over the DataFrame and calculates the sum of the first three values in the 'Values' column. The\n",
    "function should print the sum to the console."
   ]
  },
  {
   "cell_type": "code",
   "execution_count": 9,
   "id": "f1c26414-15f3-4a18-8b04-efca546792df",
   "metadata": {},
   "outputs": [],
   "source": [
    "\n",
    "def sum_first_three_values(df):\n",
    "    sum = 0\n",
    "    for index, row in df.iterrows():\n",
    "        if index < 3:\n",
    "            sum += row['Values']\n",
    "    print(\"Sum of the first three values: \", sum)"
   ]
  },
  {
   "cell_type": "code",
   "execution_count": 11,
   "id": "e19552d5-1435-4282-be53-4a545469f86b",
   "metadata": {},
   "outputs": [
    {
     "name": "stdout",
     "output_type": "stream",
     "text": [
      "Sum of the first three values:  60\n"
     ]
    }
   ],
   "source": [
    "df = pd.DataFrame({'Values': [10, 20, 30, 40,50]})\n",
    "sum_first_three_values(df)"
   ]
  },
  {
   "cell_type": "markdown",
   "id": "500645b7-dd2e-4265-aa1c-dd9e4077df6d",
   "metadata": {},
   "source": [
    "Q4 . Given a Pandas DataFrame df with a column 'Text', write a Python function to create a new column\n",
    "'Word_Count' that contains the number of words in each row of the 'Text' column."
   ]
  },
  {
   "cell_type": "code",
   "execution_count": 12,
   "id": "77767906-173b-4914-ac76-20a8a190e81e",
   "metadata": {},
   "outputs": [],
   "source": [
    "def add_word_count_column(df):\n",
    "    df['Word_Count'] = df['Text'].str.split().str.len()\n",
    "    return df"
   ]
  },
  {
   "cell_type": "code",
   "execution_count": 13,
   "id": "97259fe3-2c1c-428a-a570-b445c9f6fc62",
   "metadata": {},
   "outputs": [
    {
     "name": "stdout",
     "output_type": "stream",
     "text": [
      "                           Text  Word_Count\n",
      "0                This is a test           4\n",
      "1  Another test with more words           5\n",
      "2                 Just one word           3\n"
     ]
    }
   ],
   "source": [
    "df = pd.DataFrame({'Text': ['This is a test', 'Another test with more words', 'Just one word']})\n",
    "df = add_word_count_column(df)\n",
    "print(df)\n"
   ]
  },
  {
   "cell_type": "markdown",
   "id": "71625183-737b-4f0a-af84-d0a966c4b827",
   "metadata": {},
   "source": [
    "Q5 . How are DataFrame.size() and DataFrame.shape() different?"
   ]
  },
  {
   "cell_type": "code",
   "execution_count": 18,
   "id": "d5abd2a8-9442-4410-9ddc-5df2e8ec4a63",
   "metadata": {},
   "outputs": [
    {
     "ename": "SyntaxError",
     "evalue": "invalid syntax (184839886.py, line 1)",
     "output_type": "error",
     "traceback": [
      "\u001b[0;36m  Cell \u001b[0;32mIn[18], line 1\u001b[0;36m\u001b[0m\n\u001b[0;31m    Both DataFrame.size() and DataFrame.shape() are used to get information about the size of a Pandas DataFrame, but they return different values.\u001b[0m\n\u001b[0m         ^\u001b[0m\n\u001b[0;31mSyntaxError\u001b[0m\u001b[0;31m:\u001b[0m invalid syntax\n"
     ]
    }
   ],
   "source": [
    "Both DataFrame.size() and DataFrame.shape() are used to get information about the size of a Pandas DataFrame, but they return different values.\n",
    "\n",
    "DataFrame.size() returns the total number of elements in the DataFrame, which is equal to the number of rows multiplied by the number of columns.\n",
    "\n",
    "DataFrame.shape() returns a tuple containing the number of rows and columns in the DataFrame, respectively.\n",
    "The first element of the tuple is the number of rows, and the second element is the number of columns.\n",
    "\n",
    "Ex : # create a sample dataframe\n",
    "     df = pd.DataFrame({'A': [1, 2, 3], 'B': [4, 5, 6]})\n",
    "\n",
    "# get the size of the dataframe\n",
    "     size = df.size\n",
    "     print(size)  # output: 6\n",
    "\n",
    "# get the shape of the dataframe\n",
    "shape = df.shape\n",
    "print(shape)  # output: (3, 2)"
   ]
  },
  {
   "cell_type": "markdown",
   "id": "912c5fc1-755e-4b0f-802c-5788940f0be3",
   "metadata": {},
   "source": [
    "Q6 . Which function of pandas do we use to read an excel file?"
   ]
  },
  {
   "cell_type": "code",
   "execution_count": null,
   "id": "0e77b772-adaa-4af0-9220-fc15951ce087",
   "metadata": {},
   "outputs": [],
   "source": [
    "# read an Excel file named 'data.xlsx' into a pandas dataframe\n",
    "df = pd.read_excel('data.xlsx', sheet_name='Sheet1')\n",
    "\n",
    "# display the dataframe\n",
    "print(df)"
   ]
  },
  {
   "cell_type": "markdown",
   "id": "113ca410-630d-4072-ab0b-97ca3fe41782",
   "metadata": {},
   "source": [
    "Q7 . You have a Pandas DataFrame df that contains a column named 'Email' that contains email\n",
    "addresses in the format 'username@domain.com'. Write a Python function that creates a new column\n",
    "'Username' in df that contains only the username part of each email address."
   ]
  },
  {
   "cell_type": "code",
   "execution_count": 19,
   "id": "ccd285ff-b902-4204-951b-20c70bd95b06",
   "metadata": {},
   "outputs": [],
   "source": [
    "def extract_username(df):\n",
    "    df['Username'] = df['Email'].str.split('@').str[0]\n",
    "    return df"
   ]
  },
  {
   "cell_type": "code",
   "execution_count": 21,
   "id": "d46051ba-94e9-4a51-a6b3-03baa67d5468",
   "metadata": {},
   "outputs": [
    {
     "name": "stdout",
     "output_type": "stream",
     "text": [
      "                   Email   Username\n",
      "0       sudh@example.com       sudh\n",
      "1  sudhanshu@example.com  sudhanshu\n"
     ]
    }
   ],
   "source": [
    "df = pd.DataFrame({'Email': ['sudh@example.com', 'sudhanshu@example.com']})\n",
    "df = extract_username(df)\n",
    "print(df)"
   ]
  },
  {
   "cell_type": "markdown",
   "id": "4ee5405c-00b8-4a15-95fb-a98a9b147509",
   "metadata": {},
   "source": [
    "Q8 . You have a Pandas DataFrame df with columns 'A', 'B', and 'C'. Write a Python function that selects\n",
    "all rows where the value in column 'A' is greater than 5 and the value in column 'B' is less than 10. The"
   ]
  },
  {
   "cell_type": "code",
   "execution_count": 22,
   "id": "70e26fb0-141d-4d4d-a472-4af963748514",
   "metadata": {},
   "outputs": [],
   "source": [
    "def select_rows(df):\n",
    "    selected_rows = df[(df['A'] > 5) & (df['B'] < 10)]\n",
    "    return selected_rows"
   ]
  },
  {
   "cell_type": "code",
   "execution_count": 23,
   "id": "ce4ddd54-95d6-4fab-bdc7-a7317a937747",
   "metadata": {},
   "outputs": [
    {
     "name": "stdout",
     "output_type": "stream",
     "text": [
      "   A  B  C\n",
      "1  8  2  7\n",
      "2  6  9  4\n",
      "4  9  1  2\n"
     ]
    }
   ],
   "source": [
    "df = pd.DataFrame({'A': [3, 8, 6, 2, 9], 'B': [5, 2, 9, 3, 1], 'C': [1, 7, 4, 5, 2]})\n",
    "selected_rows = select_rows(df)\n",
    "print(selected_rows)"
   ]
  },
  {
   "cell_type": "markdown",
   "id": "25dba2dc-1e46-4748-b5f5-074b99c55b13",
   "metadata": {},
   "source": [
    "Q9 . Given a Pandas DataFrame df with a column 'Values', write a Python function to calculate the mean,\n",
    "median, and standard deviation of the values in the 'Values' column."
   ]
  },
  {
   "cell_type": "code",
   "execution_count": 24,
   "id": "f24a88d8-b090-4177-9bf6-96f80aca1216",
   "metadata": {},
   "outputs": [],
   "source": [
    "def calculate_stats(df):\n",
    "    mean = df['Values'].mean()\n",
    "    median = df['Values'].median()\n",
    "    std = df['Values'].std()\n",
    "    return mean, median, std"
   ]
  },
  {
   "cell_type": "code",
   "execution_count": 25,
   "id": "123220a4-bc94-40a9-a4ca-4cb59c0c0d6d",
   "metadata": {},
   "outputs": [
    {
     "name": "stdout",
     "output_type": "stream",
     "text": [
      "Mean: 3.0\n",
      "Median: 3.0\n",
      "Standard Deviation: 1.5811388300841898\n"
     ]
    }
   ],
   "source": [
    "df = pd.DataFrame({'Values': [1, 2, 3, 4, 5]})\n",
    "mean, median, std = calculate_stats(df)\n",
    "print('Mean:', mean)\n",
    "print('Median:', median)\n",
    "print('Standard Deviation:', std)"
   ]
  },
  {
   "cell_type": "markdown",
   "id": "926c1267-4b9f-4279-8b6b-93bcb2d06ea8",
   "metadata": {},
   "source": [
    "Q10 . Given a Pandas DataFrame df with a column 'Sales' and a column 'Date', write a Python function to\n",
    "create a new column 'MovingAverage' that contains the moving average of the sales for the past 7 days\n",
    "for each row in the DataFrame. The moving average should be calculated using a window of size 7 and\n",
    "should include the current day."
   ]
  },
  {
   "cell_type": "code",
   "execution_count": 26,
   "id": "808ed50d-7027-4221-a762-67c3e2878bba",
   "metadata": {},
   "outputs": [],
   "source": [
    "\n",
    "def calculate_moving_average(df):\n",
    "    ma = df['Sales'].rolling(window=7, min_periods=1).mean()\n",
    "    df['MovingAverage'] = ma\n",
    "    return df"
   ]
  },
  {
   "cell_type": "code",
   "execution_count": 31,
   "id": "19ad86ab-3dc3-404a-b75a-85c4bacbc90b",
   "metadata": {},
   "outputs": [
    {
     "name": "stdout",
     "output_type": "stream",
     "text": [
      "   Sales       Date  MovingAverage\n",
      "0     10 2023-01-18           10.0\n",
      "1     20 2023-01-19           15.0\n",
      "2     30 2023-01-20           20.0\n",
      "3     40 2023-01-21           25.0\n",
      "4     50 2023-01-22           30.0\n",
      "5     60 2023-01-23           35.0\n",
      "6     70 2023-01-24           40.0\n",
      "7     80 2023-01-25           50.0\n"
     ]
    }
   ],
   "source": [
    "df = pd.DataFrame({'Sales': [10, 20, 30, 40, 50, 60, 70, 80], \n",
    "                   'Date': pd.date_range('2023-01-18', periods=8, freq='D')})\n",
    "df_with_ma = calculate_moving_average(df)\n",
    "print(df_with_ma)"
   ]
  },
  {
   "cell_type": "code",
   "execution_count": null,
   "id": "50f571ea-ff75-418f-99df-9b0e512d2b49",
   "metadata": {},
   "outputs": [],
   "source": [
    "Q11 . "
   ]
  },
  {
   "cell_type": "code",
   "execution_count": 34,
   "id": "84799855-17e1-4b77-bdcd-907bcd9d49f4",
   "metadata": {},
   "outputs": [],
   "source": [
    "def add_weekday_column(df):\n",
    "    df['Weekday'] = df['Date'].dt.weekday_name\n",
    "    return df\n"
   ]
  },
  {
   "cell_type": "code",
   "execution_count": null,
   "id": "95939da0-c764-4c1e-b357-08ad2eafd4c3",
   "metadata": {},
   "outputs": [],
   "source": [
    "Q12 ."
   ]
  },
  {
   "cell_type": "code",
   "execution_count": 35,
   "id": "a15327b2-1f9c-455b-9080-7edad919af30",
   "metadata": {},
   "outputs": [],
   "source": [
    "def select_rows_between_dates(df):\n",
    "    start_date = '2023-01-01'\n",
    "    end_date = '2023-01-31'\n",
    "    mask = (df['Date'] >= start_date) & (df['Date'] <= end_date)\n",
    "    selected_rows = df.loc[mask]\n",
    "    return selected_rows"
   ]
  },
  {
   "cell_type": "code",
   "execution_count": null,
   "id": "955bc3d2-d7c4-4f76-8a7c-fff281c3cf31",
   "metadata": {},
   "outputs": [],
   "source": []
  },
  {
   "cell_type": "code",
   "execution_count": null,
   "id": "bf9db2ba-a605-4e37-b4a6-3aa8a230699a",
   "metadata": {},
   "outputs": [],
   "source": [
    "Q13 . To use the basic functions of pandas, what is the first and foremost necessary library that needs to\n",
    "be imported?"
   ]
  },
  {
   "cell_type": "code",
   "execution_count": null,
   "id": "0c6501c7-d1c8-4989-87d2-514a9296fe47",
   "metadata": {},
   "outputs": [],
   "source": [
    "The first and foremost necessary library that needs to be imported to use the basic functions of pandas is pandas itself.\n",
    "The standard way to import pandas is:\n",
    "    import pandas "
   ]
  }
 ],
 "metadata": {
  "kernelspec": {
   "display_name": "Python 3 (ipykernel)",
   "language": "python",
   "name": "python3"
  },
  "language_info": {
   "codemirror_mode": {
    "name": "ipython",
    "version": 3
   },
   "file_extension": ".py",
   "mimetype": "text/x-python",
   "name": "python",
   "nbconvert_exporter": "python",
   "pygments_lexer": "ipython3",
   "version": "3.10.8"
  }
 },
 "nbformat": 4,
 "nbformat_minor": 5
}
